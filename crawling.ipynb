{
 "cells": [
  {
   "cell_type": "code",
   "execution_count": 40,
   "metadata": {},
   "outputs": [],
   "source": [
    "from selenium import webdriver\n",
    "from bs4 import BeautifulSoup\n",
    "from linebot import LineBotApi\n",
    "from linebot.models import TextSendMessage\n",
    "import json"
   ]
  },
  {
   "cell_type": "code",
   "execution_count": 69,
   "metadata": {
    "scrolled": false
   },
   "outputs": [],
   "source": [
    "driver = webdriver.Chrome() #path:/user/local/bin\n",
    "driver.get(\"https://www.ozbargain.com.au/cat/electrical-electronics\")\n",
    "htmltext = driver.page_source\n",
    "driver.close()\n",
    "\n",
    "soup = BeautifulSoup(htmltext, 'html.parser')\n",
    "deals_divs = soup.findAll(\"div\", {\"class\": \"node-ozbdeal\"})\n",
    "\n",
    "line_bot_api = LineBotApi('your_token')\n",
    "\n",
    "\n",
    "new_deals = []\n",
    "update = False\n",
    "\n",
    "with open('data.txt') as json_file:\n",
    "    current_data = json.load(json_file)\n",
    "    pre_data = [p['id'] for p in current_data['deals']]\n",
    "\n",
    "for deal in deals_divs:\n",
    "    \n",
    "    h2 = deal.find('h2')\n",
    "    deal_id = h2['id'].replace('title','')\n",
    "    if deal_id not in pre_data:\n",
    "        update = True\n",
    "        new_deals.append(deal_id)\n",
    "        title = h2['data-title']\n",
    "        \n",
    "        #push message to one user\n",
    "        line_bot_api.push_message(\n",
    "            'user_id', #user_id\n",
    "            TextSendMessage(text=title+\" https://www.ozbargain.com.au/node/\"+deal_id)\n",
    "        )\n",
    "        \n",
    "if update:\n",
    "    for deal in new_deals:\n",
    "        current_data['deals'].pop()\n",
    "        current_data['deals'].insert(0,{'id':deal})\n",
    "    \n",
    "    with open('data.txt', 'w') as outfile:\n",
    "        json.dump(current_data, outfile)\n",
    "        \n"
   ]
  }
 ],
 "metadata": {
  "kernelspec": {
   "display_name": "Python 3",
   "language": "python",
   "name": "python3"
  },
  "language_info": {
   "codemirror_mode": {
    "name": "ipython",
    "version": 3
   },
   "file_extension": ".py",
   "mimetype": "text/x-python",
   "name": "python",
   "nbconvert_exporter": "python",
   "pygments_lexer": "ipython3",
   "version": "3.7.7"
  }
 },
 "nbformat": 4,
 "nbformat_minor": 4
}
